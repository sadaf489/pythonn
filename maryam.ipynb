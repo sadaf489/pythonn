{
  "nbformat": 4,
  "nbformat_minor": 0,
  "metadata": {
    "colab": {
      "provenance": []
    },
    "kernelspec": {
      "name": "python3",
      "display_name": "Python 3"
    },
    "language_info": {
      "name": "python"
    }
  },
  "cells": [
    {
      "cell_type": "code",
      "execution_count": 2,
      "metadata": {
        "colab": {
          "base_uri": "https://localhost:8080/"
        },
        "id": "oP9Jjjt5Nk0y",
        "outputId": "7080ed93-4e72-4ee6-e3f0-16cd705a7bbc"
      },
      "outputs": [
        {
          "output_type": "stream",
          "name": "stdout",
          "text": [
            "hello pakistan\n"
          ]
        }
      ],
      "source": [
        "#string\n",
        "text=\"hello pakistan\"\n",
        "print(text)"
      ]
    },
    {
      "cell_type": "code",
      "source": [
        "#string(indexing)\n",
        "text=\"hello world\"\n",
        "text[6]"
      ],
      "metadata": {
        "colab": {
          "base_uri": "https://localhost:8080/",
          "height": 35
        },
        "id": "b8uPeqPbNlqy",
        "outputId": "2515ed3c-ad54-4633-9470-39c73d28b9c1"
      },
      "execution_count": 3,
      "outputs": [
        {
          "output_type": "execute_result",
          "data": {
            "text/plain": [
              "'w'"
            ],
            "application/vnd.google.colaboratory.intrinsic+json": {
              "type": "string"
            }
          },
          "metadata": {},
          "execution_count": 3
        }
      ]
    },
    {
      "cell_type": "code",
      "source": [
        "#string(slicing)\n",
        "text=\"hello world\"\n",
        "print(text[1:6])"
      ],
      "metadata": {
        "colab": {
          "base_uri": "https://localhost:8080/"
        },
        "id": "CJ2JhpvjOQlz",
        "outputId": "e8117652-00a8-480a-924f-b987d08de45a"
      },
      "execution_count": 4,
      "outputs": [
        {
          "output_type": "stream",
          "name": "stdout",
          "text": [
            "ello \n"
          ]
        }
      ]
    },
    {
      "cell_type": "code",
      "source": [
        "text=\"hello world\"\n",
        "print(text[0:])"
      ],
      "metadata": {
        "colab": {
          "base_uri": "https://localhost:8080/"
        },
        "id": "4yTTGnJ6Pb1q",
        "outputId": "64fb20ca-5f0f-4fbc-f158-db7428878f51"
      },
      "execution_count": 7,
      "outputs": [
        {
          "output_type": "stream",
          "name": "stdout",
          "text": [
            "hello world\n"
          ]
        }
      ]
    },
    {
      "cell_type": "code",
      "source": [
        "text=\"hello world\"\n",
        "print(text[-6:])"
      ],
      "metadata": {
        "colab": {
          "base_uri": "https://localhost:8080/"
        },
        "id": "tabel0GbQQZb",
        "outputId": "c94ea08b-266e-4a1d-cc02-2436a00be87c"
      },
      "execution_count": 8,
      "outputs": [
        {
          "output_type": "stream",
          "name": "stdout",
          "text": [
            " world\n"
          ]
        }
      ]
    },
    {
      "cell_type": "code",
      "source": [
        "test=\"i am learning string\"\n",
        "print(test[2])"
      ],
      "metadata": {
        "colab": {
          "base_uri": "https://localhost:8080/"
        },
        "id": "uU_VfOWISnZS",
        "outputId": "d50bdc89-01b7-4e48-ff9a-6da5fec29e1f"
      },
      "execution_count": 12,
      "outputs": [
        {
          "output_type": "stream",
          "name": "stdout",
          "text": [
            "a\n"
          ]
        }
      ]
    },
    {
      "cell_type": "code",
      "source": [],
      "metadata": {
        "id": "PA301M1aOgb6"
      },
      "execution_count": null,
      "outputs": []
    }
  ]
}