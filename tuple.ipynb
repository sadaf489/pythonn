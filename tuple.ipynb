{
  "nbformat": 4,
  "nbformat_minor": 0,
  "metadata": {
    "colab": {
      "provenance": []
    },
    "kernelspec": {
      "name": "python3",
      "display_name": "Python 3"
    },
    "language_info": {
      "name": "python"
    }
  },
  "cells": [
    {
      "cell_type": "code",
      "execution_count": 1,
      "metadata": {
        "colab": {
          "base_uri": "https://localhost:8080/"
        },
        "id": "MVrgwv4qWvdy",
        "outputId": "228b5626-4983-441b-89e4-2c9941481940"
      },
      "outputs": [
        {
          "output_type": "stream",
          "name": "stdout",
          "text": [
            "(13, 33, 'america', 6.3)\n",
            "<class 'tuple'>\n"
          ]
        }
      ],
      "source": [
        "#tuple\n",
        "item=(13,33,\"america\",6.3)\n",
        "print(item)\n",
        "print(type(item))"
      ]
    },
    {
      "cell_type": "code",
      "source": [
        "college=(\"teachers\",\"students\",\"library\")\n",
        "print(college)\n",
        "print(type(college))"
      ],
      "metadata": {
        "colab": {
          "base_uri": "https://localhost:8080/"
        },
        "id": "tW-3ASuOWwO2",
        "outputId": "3bf8acec-0272-47ee-be5c-9168702d9624"
      },
      "execution_count": 2,
      "outputs": [
        {
          "output_type": "stream",
          "name": "stdout",
          "text": [
            "('teachers', 'students', 'library')\n",
            "<class 'tuple'>\n"
          ]
        }
      ]
    }
  ]
}