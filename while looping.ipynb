{
  "nbformat": 4,
  "nbformat_minor": 0,
  "metadata": {
    "colab": {
      "provenance": []
    },
    "kernelspec": {
      "name": "python3",
      "display_name": "Python 3"
    },
    "language_info": {
      "name": "python"
    }
  },
  "cells": [
    {
      "cell_type": "code",
      "execution_count": 1,
      "metadata": {
        "colab": {
          "base_uri": "https://localhost:8080/"
        },
        "id": "ad1scVD1_Tu2",
        "outputId": "56cd5439-d23e-446a-b36a-2e36f1dbc995"
      },
      "outputs": [
        {
          "output_type": "stream",
          "name": "stdout",
          "text": [
            "1\n",
            "2\n",
            "3\n",
            "4\n",
            "5\n",
            "6\n",
            "7\n",
            "8\n",
            "9\n"
          ]
        }
      ],
      "source": [
        "#looping\n",
        "#types\n",
        "#1:for\n",
        "#2:while\n",
        "# examples of while looping\n",
        "a = 1\n",
        "while a < 10:\n",
        "  print(a)\n",
        "  a = a+1"
      ]
    },
    {
      "cell_type": "code",
      "source": [
        "b= 3\n",
        "while b < 11:\n",
        "  print(b)\n",
        "  b = b+1"
      ],
      "metadata": {
        "colab": {
          "base_uri": "https://localhost:8080/"
        },
        "id": "lEsMt3kw_3tC",
        "outputId": "23ced49c-f2aa-4f94-fbd2-ef3961670222"
      },
      "execution_count": 2,
      "outputs": [
        {
          "output_type": "stream",
          "name": "stdout",
          "text": [
            "3\n",
            "4\n",
            "5\n",
            "6\n",
            "7\n",
            "8\n",
            "9\n",
            "10\n"
          ]
        }
      ]
    },
    {
      "cell_type": "code",
      "source": [
        "d = 10\n",
        "while d > 4:\n",
        "  print(d)\n",
        "  d = d-1\n",
        "\n",
        ""
      ],
      "metadata": {
        "colab": {
          "base_uri": "https://localhost:8080/"
        },
        "id": "cMEUH-hAAI4Z",
        "outputId": "4820e8f6-7bcf-4af9-9595-86b405911405"
      },
      "execution_count": 9,
      "outputs": [
        {
          "output_type": "stream",
          "name": "stdout",
          "text": [
            "10\n",
            "9\n",
            "8\n",
            "7\n",
            "6\n",
            "5\n"
          ]
        }
      ]
    },
    {
      "cell_type": "code",
      "source": [
        "c =5\n",
        "while c <10:\n",
        "  print(c)\n",
        "  c = c+1"
      ],
      "metadata": {
        "colab": {
          "base_uri": "https://localhost:8080/"
        },
        "id": "Z2kuyagHB2z6",
        "outputId": "06c85439-7036-4bf8-bb5d-1c3180265e7c"
      },
      "execution_count": 10,
      "outputs": [
        {
          "output_type": "stream",
          "name": "stdout",
          "text": [
            "5\n",
            "6\n",
            "7\n",
            "8\n",
            "9\n"
          ]
        }
      ]
    }
  ]
}